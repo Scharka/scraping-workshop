{
 "cells": [
  {
   "cell_type": "markdown",
   "id": "3435f7d4",
   "metadata": {},
   "source": [
    "# Úvod do světa scrapingu: <br> polévky, pavouci, API"
   ]
  },
  {
   "cell_type": "markdown",
   "id": "4e620190",
   "metadata": {},
   "source": [
    "## Opakování HTML"
   ]
  },
  {
   "cell_type": "markdown",
   "id": "856d88ac",
   "metadata": {},
   "source": [
    "<div class=\"alert alert-block alert-warning\">\n",
    "<b>Cvičení 1:</b> <br>Jaké má stránka elementy? <br> Jaké má stránka atributy?<br>Co je obsahem (textem) tagu h1?\n",
    "</div>"
   ]
  },
  {
   "cell_type": "code",
   "execution_count": 11,
   "id": "31200a9b",
   "metadata": {},
   "outputs": [],
   "source": [
    "jednoduche_html = \"\"\"\n",
    "<html>\n",
    "\n",
    "<head>\n",
    "  <style>\n",
    "    li {font-size: 18px;}\n",
    "  </style\n",
    "</head>\n",
    "\n",
    "<body>\n",
    "  <div style=\"border-style: double; padding: 35px\">\n",
    "    <h1>Úkoly na začátku workshopu</h1>\n",
    "    <ul>\n",
    "      <li>připravit místnost</li>\n",
    "      <li>přivítat lidi</li>\n",
    "      <li>představit plán</li>\n",
    "      <li>vrhnout se na to</li>\n",
    "    </ul>\n",
    "    <br>\n",
    "  </div>\n",
    "</body>\n",
    "\n",
    "</html>\n",
    "\"\"\""
   ]
  },
  {
   "cell_type": "markdown",
   "id": "f510bdf6",
   "metadata": {},
   "source": [
    "<div class=\"alert alert-block alert-success\">\n",
    "<b>Bonus</b> Jak by HTML výše vypadalo, se můžeš podívat pomocí buňky níže:\n",
    "</div>"
   ]
  },
  {
   "cell_type": "code",
   "execution_count": 12,
   "id": "ec914296",
   "metadata": {},
   "outputs": [
    {
     "data": {
      "text/html": [
       "\n",
       "<html>\n",
       "\n",
       "<head>\n",
       "  <style>\n",
       "    li {font-size: 18px;}\n",
       "  </style\n",
       "</head>\n",
       "\n",
       "<body>\n",
       "  <div style=\"border-style: double; padding: 35px\">\n",
       "    <h1>Úkoly na začátku workshopu</h1>\n",
       "    <ul>\n",
       "      <li>připravit místnost</li>\n",
       "      <li>přivítat lidi</li>\n",
       "      <li>představit plán</li>\n",
       "      <li>vrhnout se na to</li>\n",
       "    </ul>\n",
       "    <br>\n",
       "  </div>\n",
       "</body>\n",
       "\n",
       "</html>\n"
      ],
      "text/plain": [
       "<IPython.core.display.HTML object>"
      ]
     },
     "metadata": {},
     "output_type": "display_data"
    }
   ],
   "source": [
    "from IPython.display import display, HTML\n",
    "display(HTML(jednoduche_html)) "
   ]
  },
  {
   "cell_type": "markdown",
   "id": "e0859029",
   "metadata": {},
   "source": [
    "# BeautifulSoup"
   ]
  },
  {
   "cell_type": "code",
   "execution_count": 14,
   "id": "e12a4370",
   "metadata": {},
   "outputs": [],
   "source": [
    "#importuje knihovnu (bs je typicky používaná zkratka)\n",
    "from bs4 import BeautifulSoup as bs"
   ]
  },
  {
   "cell_type": "code",
   "execution_count": 15,
   "id": "0a823158",
   "metadata": {},
   "outputs": [],
   "source": [
    "#načte naše HTML\n",
    "soup = bs(jednoduche_html)"
   ]
  },
  {
   "cell_type": "code",
   "execution_count": 16,
   "id": "260dff3d",
   "metadata": {},
   "outputs": [
    {
     "data": {
      "text/plain": [
       "<html>\n",
       "<head>\n",
       "<style>\n",
       "    li {font-size: 18px;}\n",
       "  </style>\n",
       "</head><body>\n",
       "<div style=\"border-style: double; padding: 35px\">\n",
       "<h1>Úkoly na začátku workshopu</h1>\n",
       "<ul>\n",
       "<li>připravit místnost</li>\n",
       "<li>přivítat lidi</li>\n",
       "<li>představit plán</li>\n",
       "<li>vrhnout se na to</li>\n",
       "</ul>\n",
       "<br/>\n",
       "</div>\n",
       "</body>\n",
       "</html>"
      ]
     },
     "execution_count": 16,
     "metadata": {},
     "output_type": "execute_result"
    }
   ],
   "source": [
    "soup #na první pohled žádná změna"
   ]
  },
  {
   "cell_type": "code",
   "execution_count": 31,
   "id": "76952c85",
   "metadata": {},
   "outputs": [
    {
     "data": {
      "text/plain": [
       "bs4.BeautifulSoup"
      ]
     },
     "execution_count": 31,
     "metadata": {},
     "output_type": "execute_result"
    }
   ],
   "source": [
    "type(soup)"
   ]
  },
  {
   "cell_type": "code",
   "execution_count": 18,
   "id": "4c138b4e",
   "metadata": {},
   "outputs": [
    {
     "data": {
      "text/plain": [
       "str"
      ]
     },
     "execution_count": 18,
     "metadata": {},
     "output_type": "execute_result"
    }
   ],
   "source": [
    "type(jednoduche_html)"
   ]
  },
  {
   "cell_type": "markdown",
   "id": "7d51c2e3",
   "metadata": {},
   "source": [
    "# Jak s pomocí BeautifulSoup porcovat HTML"
   ]
  },
  {
   "cell_type": "markdown",
   "id": "e6527efa",
   "metadata": {},
   "source": [
    "## metoda *find*: nalezení prvního prvku"
   ]
  },
  {
   "cell_type": "code",
   "execution_count": 32,
   "id": "5f2acf88",
   "metadata": {},
   "outputs": [
    {
     "data": {
      "text/plain": [
       "<h1>Úkoly na začátku workshopu</h1>"
      ]
     },
     "execution_count": 32,
     "metadata": {},
     "output_type": "execute_result"
    }
   ],
   "source": [
    "#vyhledá první tag h1\n",
    "soup.find('h1')"
   ]
  },
  {
   "cell_type": "code",
   "execution_count": 20,
   "id": "0108d271",
   "metadata": {},
   "outputs": [
    {
     "data": {
      "text/plain": [
       "bs4.element.Tag"
      ]
     },
     "execution_count": 20,
     "metadata": {},
     "output_type": "execute_result"
    }
   ],
   "source": [
    "#výsledek v buňce výše je typu element - Tag (není to string/text)\n",
    "type(soup.find('h1'))"
   ]
  },
  {
   "cell_type": "code",
   "execution_count": 19,
   "id": "a1a4fa7c",
   "metadata": {},
   "outputs": [
    {
     "data": {
      "text/plain": [
       "'Úkoly na začátku workshopu'"
      ]
     },
     "execution_count": 19,
     "metadata": {},
     "output_type": "execute_result"
    }
   ],
   "source": [
    "#chceme-li získat pouze text, přidáme .text\n",
    "soup.find('h1').text"
   ]
  },
  {
   "cell_type": "code",
   "execution_count": 21,
   "id": "14ffd29f",
   "metadata": {},
   "outputs": [
    {
     "data": {
      "text/plain": [
       "str"
      ]
     },
     "execution_count": 21,
     "metadata": {},
     "output_type": "execute_result"
    }
   ],
   "source": [
    "type(soup.find('h1').text) "
   ]
  },
  {
   "cell_type": "markdown",
   "id": "1b587973",
   "metadata": {},
   "source": [
    "## metoda *find_all*: nalezení všech prvků"
   ]
  },
  {
   "cell_type": "code",
   "execution_count": 22,
   "id": "36f4e2a6",
   "metadata": {},
   "outputs": [
    {
     "data": {
      "text/plain": [
       "[<li>připravit místnost</li>,\n",
       " <li>přivítat lidi</li>,\n",
       " <li>představit plán</li>,\n",
       " <li>vrhnout se na to</li>]"
      ]
     },
     "execution_count": 22,
     "metadata": {},
     "output_type": "execute_result"
    }
   ],
   "source": [
    "#vyhledá všechny tady *li* na stránce\n",
    "soup.find_all('li')"
   ]
  },
  {
   "cell_type": "code",
   "execution_count": 38,
   "id": "4e6dbdc9",
   "metadata": {},
   "outputs": [
    {
     "data": {
      "text/plain": [
       "bs4.element.ResultSet"
      ]
     },
     "execution_count": 38,
     "metadata": {},
     "output_type": "execute_result"
    }
   ],
   "source": [
    "#výsledek je typu element - ResultSet\n",
    "#jak dává napovědět struktura, je to typ blízký seznamu, má i podobné metody, např. append\n",
    "#jak se píše v dokumentaci: A ResultSet is just a list that...\"\"\n",
    "type(soup.find_all('li'))"
   ]
  },
  {
   "cell_type": "code",
   "execution_count": 23,
   "id": "17ee6a25",
   "metadata": {},
   "outputs": [
    {
     "name": "stdout",
     "output_type": "stream",
     "text": [
      "připravit místnost\n",
      "přivítat lidi\n",
      "představit plán\n",
      "vrhnout se na to\n"
     ]
    }
   ],
   "source": [
    "#text z elementů získáme tak, že proiterujeme skrz seznam a u každého prvku zavoláme .text\n",
    "for item in soup.find_all('li'):\n",
    "    print(item.text)"
   ]
  },
  {
   "cell_type": "markdown",
   "id": "74515588",
   "metadata": {},
   "source": [
    "# Cvičení"
   ]
  },
  {
   "cell_type": "code",
   "execution_count": 27,
   "id": "09049702",
   "metadata": {},
   "outputs": [],
   "source": [
    "workshop_html = \"\"\"\n",
    "<title></title>\n",
    "<h1>Úvod do světa scrapingu: polévky, pavouci, API</h1>\n",
    "\n",
    "<p>Víš, že Ti Python může pomoci stahovat si automaticky z internetu vybraná data? Pokud ti doposud taková možnost byla utajena, pojď si rozšířit obzory na tento začátečnický workshop. 🤓</p>\n",
    "\n",
    "<h2>Program</h2>\n",
    "\n",
    "<p>V průběhu workshopu se:</p>\n",
    "\n",
    "<ul>\n",
    "    <li><strong>navnadíme</strong>: řekneme si, oč jde a k čemu to může být dobré (a proč se vyplatí mít i jinou možnost než manuální klikání s duem CTRL + C & CTRL + V),</li>\n",
    "    <li><strong>vyzbrojíme</strong>: seznámíme se se základními pojmy, pravidly pohybu v této oblasti i možnými nástrahami,</li>\n",
    "    <li><strong>naučíme zvolit vhodný bojový plán</strong>: podíváme se webovým stránkám pod pokličku/kapotu a řekneme si, jak zvolit správný postup získání dat,</li>\n",
    "    <li><strong>vrhneme do práce</strong>: podíváme se, jak vypadá scraping v Pythonu a napíšeme si jednoduchý scraper,</li>\n",
    "    <li><strong>pokocháme výsledky naší práce</strong>: řekneme si, čím lze na samotný scraping dále navázat.</li>\n",
    "</ul>\n",
    "\n",
    "<h2>Co je potřeba</h2>\n",
    "\n",
    "<h3>Úroveň Pythonu</h3>\n",
    "\n",
    "<p>Umět psát základní skripty.</p>\n",
    "\n",
    "<h3>O tématu</h3>\n",
    "\n",
    "<p>Není potřeba žádná předchozí znalost, vše bude vysvětleno.</p>\n",
    "\n",
    "<h2>Kde a kdy to bude</h2>\n",
    "\n",
    "<ul>\n",
    "    <li>kde: 17. září</li>\n",
    "    <li>kdy: od 14 h</li>\n",
    "    <li>jak dlouho: 3 hodiny</li>\n",
    "    <li>kde: místnost 302, FIT ČVUT</li>\n",
    "</ul>\n",
    "\n",
    "\"\"\""
   ]
  },
  {
   "cell_type": "code",
   "execution_count": 28,
   "id": "c4d91efb",
   "metadata": {},
   "outputs": [
    {
     "data": {
      "text/html": [
       "\n",
       "<title></title>\n",
       "<h1>Úvod do světa scrapingu: polévky, pavouci, API</h1>\n",
       "\n",
       "<p>Víš, že Ti Python může pomoci stahovat si automaticky z internetu vybraná data? Pokud ti doposud taková možnost byla utajena, pojď si rozšířit obzory na tento začátečnický workshop. 🤓</p>\n",
       "\n",
       "<h2>Program</h2>\n",
       "\n",
       "<p>V průběhu workshopu se:</p>\n",
       "\n",
       "<ul>\n",
       "    <li><strong>navnadíme</strong>: řekneme si, oč jde a k čemu to může být dobré (a proč se vyplatí mít i jinou možnost než manuální klikání s duem CTRL + C & CTRL + V),</li>\n",
       "    <li><strong>vyzbrojíme</strong>: seznámíme se se základními pojmy, pravidly pohybu v této oblasti i možnými nástrahami,</li>\n",
       "    <li><strong>naučíme zvolit vhodný bojový plán</strong>: podíváme se webovým stránkám pod pokličku/kapotu a řekneme si, jak zvolit správný postup získání dat,</li>\n",
       "    <li><strong>vrhneme do práce</strong>: podíváme se, jak vypadá scraping v Pythonu a napíšeme si jednoduchý scraper,</li>\n",
       "    <li><strong>pokocháme výsledky naší práce</strong>: řekneme si, čím lze na samotný scraping dále navázat.</li>\n",
       "</ul>\n",
       "\n",
       "<h2>Co je potřeba</h2>\n",
       "\n",
       "<h3>Úroveň Pythonu</h3>\n",
       "\n",
       "<p>Umět psát základní skripty.</p>\n",
       "\n",
       "<h3>O tématu</h3>\n",
       "\n",
       "<p>Není potřeba žádná předchozí znalost, vše bude vysvětleno.</p>\n",
       "\n",
       "<h2>Kde a kdy to bude</h2>\n",
       "\n",
       "<ul>\n",
       "    <li>kde: 17. září</li>\n",
       "    <li>kdy: od 14 h</li>\n",
       "    <li>jak dlouho: 3 hodiny</li>\n",
       "    <li>kde: místnost 302, FIT ČVUT</li>\n",
       "</ul>\n",
       "\n"
      ],
      "text/plain": [
       "<IPython.core.display.HTML object>"
      ]
     },
     "metadata": {},
     "output_type": "display_data"
    }
   ],
   "source": [
    "from IPython.display import display, HTML\n",
    "display(HTML(workshop_html)) \n"
   ]
  },
  {
   "cell_type": "markdown",
   "id": "7ae79d2f",
   "metadata": {},
   "source": [
    "## Otázky: základní set"
   ]
  },
  {
   "cell_type": "markdown",
   "id": "47e79983",
   "metadata": {},
   "source": [
    "<div class=\"alert alert-block alert-warning\">\n",
    "<b>Cvičení 0: Použij knihovnu beautifulsoup k načtení proměnné \"workshop_html\", v níž je uložené html.</b>\n",
    "</div>"
   ]
  },
  {
   "cell_type": "code",
   "execution_count": null,
   "id": "fc23bcbc",
   "metadata": {},
   "outputs": [],
   "source": []
  },
  {
   "cell_type": "code",
   "execution_count": null,
   "id": "62425e68",
   "metadata": {},
   "outputs": [],
   "source": []
  },
  {
   "cell_type": "markdown",
   "id": "1a06f7d1",
   "metadata": {},
   "source": [
    "<div class=\"alert alert-block alert-warning\">\n",
    "<b>Cvičení 1: Odstavce</b> <br>Jaké jsou na stránce odstavce? <br>Zobraz text všech těchto odstavců.\n",
    "</div>"
   ]
  },
  {
   "cell_type": "code",
   "execution_count": null,
   "id": "96738012",
   "metadata": {},
   "outputs": [],
   "source": []
  },
  {
   "cell_type": "code",
   "execution_count": null,
   "id": "c3cca31e",
   "metadata": {},
   "outputs": [],
   "source": []
  },
  {
   "cell_type": "markdown",
   "id": "80eb8083",
   "metadata": {},
   "source": [
    "<div class=\"alert alert-block alert-warning\">\n",
    "<b>Cvičení 3: Tag \"title\"</b> <br>Jaký je obsah tagu title? (Jakou pravdivostní hodnotu má tento tag?)\n",
    "</div>"
   ]
  },
  {
   "cell_type": "code",
   "execution_count": 37,
   "id": "cafb939d",
   "metadata": {},
   "outputs": [],
   "source": [
    "soup.title"
   ]
  },
  {
   "cell_type": "code",
   "execution_count": 33,
   "id": "a699650a",
   "metadata": {},
   "outputs": [
    {
     "data": {
      "text/plain": [
       "False"
      ]
     },
     "execution_count": 33,
     "metadata": {},
     "output_type": "execute_result"
    }
   ],
   "source": [
    "bool(soup.title)"
   ]
  },
  {
   "cell_type": "markdown",
   "id": "f30f9d24",
   "metadata": {},
   "source": [
    "<div class=\"alert alert-block alert-warning\">\n",
    "<b>Cvičení 3: Tag \"h6\"</b> <br>Co se stane, když vyhledáš tag \"h6\"? Jakého typu bude výsledek?\n",
    "</div>"
   ]
  },
  {
   "cell_type": "code",
   "execution_count": 38,
   "id": "5723b561",
   "metadata": {},
   "outputs": [],
   "source": [
    "soup.h6"
   ]
  },
  {
   "cell_type": "code",
   "execution_count": 39,
   "id": "43bf96cb",
   "metadata": {},
   "outputs": [
    {
     "data": {
      "text/plain": [
       "NoneType"
      ]
     },
     "execution_count": 39,
     "metadata": {},
     "output_type": "execute_result"
    }
   ],
   "source": [
    "type(soup.find(\"h6\"))"
   ]
  },
  {
   "cell_type": "code",
   "execution_count": null,
   "id": "cb8fce97",
   "metadata": {},
   "outputs": [],
   "source": []
  },
  {
   "cell_type": "code",
   "execution_count": null,
   "id": "b85fd249",
   "metadata": {},
   "outputs": [],
   "source": []
  },
  {
   "cell_type": "markdown",
   "id": "2937fe74",
   "metadata": {},
   "source": [
    "## Otázky: další cvičení"
   ]
  },
  {
   "cell_type": "code",
   "execution_count": 25,
   "id": "2463fc71",
   "metadata": {},
   "outputs": [],
   "source": [
    "utulek_html = \"\"\"\n",
    "<!DOCTYPE html>\n",
    "<html lang=\"cs\">\n",
    "\n",
    "<head>\n",
    "    <meta charset=\"UTF-8\">\n",
    "    <meta name=\"viewport\" content=\"width=device-width, initial-scale=1.0\">\n",
    "    <title>Kočičí Útulek</title>\n",
    "    <style>\n",
    "        body {\n",
    "            font-family: Arial, sans-serif;\n",
    "            margin: 0;\n",
    "            padding: 0;\n",
    "            background-color: #f3f4f6;\n",
    "        }\n",
    "        \n",
    "        header {\n",
    "            background-color: #4CAF50;\n",
    "            color: white;\n",
    "            text-align: center;\n",
    "            padding: 1em 0;\n",
    "        }\n",
    "        \n",
    "        .content {\n",
    "            margin: 2em 10%;\n",
    "        }\n",
    "        \n",
    "        .gallery {\n",
    "            display: grid;\n",
    "            grid-template-columns: repeat(auto-fill, minmax(200px, 1fr));\n",
    "            gap: 1em;\n",
    "        }\n",
    "        \n",
    "        .gallery img {\n",
    "            width: 100%;\n",
    "            border-radius: 10px;\n",
    "            box-shadow: 2px 2px 10px rgba(0, 0, 0, 0.1);\n",
    "        }\n",
    "    </style>\n",
    "</head>\n",
    "\n",
    "<body>\n",
    "    <header>\n",
    "        <h1>Vítejte v Kočičím Útulku!</h1>\n",
    "    </header>\n",
    "\n",
    "    <div class=\"content\">\n",
    "        <h2>O nás</h2>\n",
    "        <p>Kočičí útulek je domovem pro opuštěné a ztracené kočičky. Naším posláním je najít pro ně nový milující domov.</p>\n",
    "\n",
    "        <h2>Kočičky k adopci</h2>\n",
    "        <ul>\n",
    "            <li>Mrňous</li>\n",
    "            <li>Ťapka</li>\n",
    "            <li>Flíček</li>\n",
    "            <li>Mikes</li>\n",
    "            <!-- Můžete přidat další jména kočiček -->\n",
    "        </ul>\n",
    "\n",
    "        <h2>Naše kočičky</h2>\n",
    "        <div class=\"gallery\">\n",
    "            <img src=\"cesta_k_obrazku1.jpg\" alt=\"Kočička 1\">\n",
    "            <img src=\"cesta_k_obrazku2.jpg\" alt=\"Kočička 2\">\n",
    "            <!-- Můžete přidat další obrázky kočiček do galerie -->\n",
    "        </div>\n",
    "\n",
    "        <h2>Co potřebujete k adopci kočky?</h2>\n",
    "        <ul>\n",
    "            <li>Kočičí záchod s naplní</li>\n",
    "            <li>Miska na vodu a krmivo</li>\n",
    "            <li>Hračky pro kočky</li>\n",
    "            <li>Přepravka pro převoz</li>\n",
    "            <li>Vodítko a obojek (pokud plánujete kočku venčit)</li>\n",
    "            <!-- Můžete přidat další potřebné věci -->\n",
    "        </ul>\n",
    "\n",
    "        <h2>Kontaktujte nás</h2>\n",
    "        <p>Email: priklad@email.cz</p>\n",
    "        <p>Telefon: 123 456 789</p>\n",
    "    </div>\n",
    "</body>\n",
    "\n",
    "</html>\n",
    "\n",
    "\"\"\""
   ]
  },
  {
   "cell_type": "code",
   "execution_count": 26,
   "id": "c02b7ef8",
   "metadata": {},
   "outputs": [
    {
     "data": {
      "text/html": [
       "\n",
       "<!DOCTYPE html>\n",
       "<html lang=\"cs\">\n",
       "\n",
       "<head>\n",
       "    <meta charset=\"UTF-8\">\n",
       "    <meta name=\"viewport\" content=\"width=device-width, initial-scale=1.0\">\n",
       "    <title>Kočičí Útulek</title>\n",
       "    <style>\n",
       "        body {\n",
       "            font-family: Arial, sans-serif;\n",
       "            margin: 0;\n",
       "            padding: 0;\n",
       "            background-color: #f3f4f6;\n",
       "        }\n",
       "        \n",
       "        header {\n",
       "            background-color: #4CAF50;\n",
       "            color: white;\n",
       "            text-align: center;\n",
       "            padding: 1em 0;\n",
       "        }\n",
       "        \n",
       "        .content {\n",
       "            margin: 2em 10%;\n",
       "        }\n",
       "        \n",
       "        .gallery {\n",
       "            display: grid;\n",
       "            grid-template-columns: repeat(auto-fill, minmax(200px, 1fr));\n",
       "            gap: 1em;\n",
       "        }\n",
       "        \n",
       "        .gallery img {\n",
       "            width: 100%;\n",
       "            border-radius: 10px;\n",
       "            box-shadow: 2px 2px 10px rgba(0, 0, 0, 0.1);\n",
       "        }\n",
       "    </style>\n",
       "</head>\n",
       "\n",
       "<body>\n",
       "    <header>\n",
       "        <h1>Vítejte v Kočičím Útulku!</h1>\n",
       "    </header>\n",
       "\n",
       "    <div class=\"content\">\n",
       "        <h2>O nás</h2>\n",
       "        <p>Kočičí útulek je domovem pro opuštěné a ztracené kočičky. Naším posláním je najít pro ně nový milující domov.</p>\n",
       "\n",
       "        <h2>Kočičky k adopci</h2>\n",
       "        <ul>\n",
       "            <li>Mrňous</li>\n",
       "            <li>Ťapka</li>\n",
       "            <li>Flíček</li>\n",
       "            <li>Mikes</li>\n",
       "            <!-- Můžete přidat další jména kočiček -->\n",
       "        </ul>\n",
       "\n",
       "        <h2>Naše kočičky</h2>\n",
       "        <div class=\"gallery\">\n",
       "            <img src=\"cesta_k_obrazku1.jpg\" alt=\"Kočička 1\">\n",
       "            <img src=\"cesta_k_obrazku2.jpg\" alt=\"Kočička 2\">\n",
       "            <!-- Můžete přidat další obrázky kočiček do galerie -->\n",
       "        </div>\n",
       "\n",
       "        <h2>Co potřebujete k adopci kočky?</h2>\n",
       "        <ul>\n",
       "            <li>Kočičí záchod s naplní</li>\n",
       "            <li>Miska na vodu a krmivo</li>\n",
       "            <li>Hračky pro kočky</li>\n",
       "            <li>Přepravka pro převoz</li>\n",
       "            <li>Vodítko a obojek (pokud plánujete kočku venčit)</li>\n",
       "            <!-- Můžete přidat další potřebné věci -->\n",
       "        </ul>\n",
       "\n",
       "        <h2>Kontaktujte nás</h2>\n",
       "        <p>Email: priklad@email.cz</p>\n",
       "        <p>Telefon: 123 456 789</p>\n",
       "    </div>\n",
       "</body>\n",
       "\n",
       "</html>\n",
       "\n"
      ],
      "text/plain": [
       "<IPython.core.display.HTML object>"
      ]
     },
     "metadata": {},
     "output_type": "display_data"
    }
   ],
   "source": [
    "from IPython.display import display, HTML\n",
    "display(HTML(utulek_html)) "
   ]
  },
  {
   "cell_type": "markdown",
   "id": "0dc6049d",
   "metadata": {},
   "source": [
    "<div class=\"alert alert-block alert-warning\">\n",
    "<b>Řetězení vyhledávání:</b> Získej z HTML nejdříve \"header\". Podívej se, co je výsledkem, a na výsledek poté znovu použij .find, abys získal(a) tag, který je obsahem.\n",
    "</div>"
   ]
  },
  {
   "cell_type": "code",
   "execution_count": 45,
   "id": "f0b330bd",
   "metadata": {},
   "outputs": [
    {
     "data": {
      "text/plain": [
       "'Vítejte v Kočičím Útulku!'"
      ]
     },
     "execution_count": 45,
     "metadata": {},
     "output_type": "execute_result"
    }
   ],
   "source": [
    "soup = bs(utulek_html)\n",
    "soup.find(\"header\").find(\"h1\").text"
   ]
  },
  {
   "cell_type": "markdown",
   "id": "1670befb",
   "metadata": {},
   "source": [
    "<div class=\"alert alert-block alert-warning\">\n",
    "<b>Hraj si. :)</b> Zkus se dostat k těm částem HTML, které si vybereš.\n",
    "</div>"
   ]
  },
  {
   "cell_type": "markdown",
   "id": "c5f6e06d",
   "metadata": {},
   "source": []
  },
  {
   "cell_type": "code",
   "execution_count": null,
   "id": "c29fc366",
   "metadata": {},
   "outputs": [],
   "source": []
  },
  {
   "cell_type": "code",
   "execution_count": null,
   "id": "53a00e96",
   "metadata": {},
   "outputs": [],
   "source": []
  },
  {
   "cell_type": "code",
   "execution_count": null,
   "id": "6933f7db",
   "metadata": {},
   "outputs": [],
   "source": []
  }
 ],
 "metadata": {
  "kernelspec": {
   "display_name": "Python 3 (ipykernel)",
   "language": "python",
   "name": "python3"
  },
  "language_info": {
   "codemirror_mode": {
    "name": "ipython",
    "version": 3
   },
   "file_extension": ".py",
   "mimetype": "text/x-python",
   "name": "python",
   "nbconvert_exporter": "python",
   "pygments_lexer": "ipython3",
   "version": "3.11.4"
  }
 },
 "nbformat": 4,
 "nbformat_minor": 5
}
